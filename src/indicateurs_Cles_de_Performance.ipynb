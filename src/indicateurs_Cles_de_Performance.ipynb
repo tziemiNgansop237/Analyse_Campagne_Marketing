{
 "cells": [
  {
   "cell_type": "markdown",
   "metadata": {},
   "source": [
    "<br/>\n",
    "<h1 style=\"font-family: 'Georgia', serif; text-align: center; font-size: 30px; color:rgb(52, 152, 219); text-shadow: 2px 2px 5px rgba(0, 0, 0, 0.3)\">Quelques indicateurs clés de performance</h1>\n",
    "<br/>\n",
    "<br/>\n",
    "  "
   ]
  },
  {
   "cell_type": "markdown",
   "metadata": {},
   "source": [
    " <br/>\n",
    " <br/>\n",
    "<p style=\"font-family: 'Georgia', serif;  font-size: 20px;\">\n",
    "dans cette partie, nous cherchons à mesurer le succès de la campagne\n",
    "</p>\n"
   ]
  },
  {
   "cell_type": "code",
   "execution_count": 2,
   "metadata": {},
   "outputs": [
    {
     "name": "stdout",
     "output_type": "stream",
     "text": [
      "Collecting missingno\n",
      "  Downloading missingno-0.5.2-py3-none-any.whl.metadata (639 bytes)\n",
      "Requirement already satisfied: numpy in /opt/conda/lib/python3.12/site-packages (from missingno) (2.2.2)\n",
      "Requirement already satisfied: matplotlib in /opt/conda/lib/python3.12/site-packages (from missingno) (3.10.0)\n",
      "Requirement already satisfied: scipy in /opt/conda/lib/python3.12/site-packages (from missingno) (1.15.1)\n",
      "Requirement already satisfied: seaborn in /opt/conda/lib/python3.12/site-packages (from missingno) (0.13.2)\n",
      "Requirement already satisfied: contourpy>=1.0.1 in /opt/conda/lib/python3.12/site-packages (from matplotlib->missingno) (1.3.1)\n",
      "Requirement already satisfied: cycler>=0.10 in /opt/conda/lib/python3.12/site-packages (from matplotlib->missingno) (0.12.1)\n",
      "Requirement already satisfied: fonttools>=4.22.0 in /opt/conda/lib/python3.12/site-packages (from matplotlib->missingno) (4.55.3)\n",
      "Requirement already satisfied: kiwisolver>=1.3.1 in /opt/conda/lib/python3.12/site-packages (from matplotlib->missingno) (1.4.8)\n",
      "Requirement already satisfied: packaging>=20.0 in /opt/conda/lib/python3.12/site-packages (from matplotlib->missingno) (24.2)\n",
      "Requirement already satisfied: pillow>=8 in /opt/conda/lib/python3.12/site-packages (from matplotlib->missingno) (11.1.0)\n",
      "Requirement already satisfied: pyparsing>=2.3.1 in /opt/conda/lib/python3.12/site-packages (from matplotlib->missingno) (3.2.1)\n",
      "Requirement already satisfied: python-dateutil>=2.7 in /opt/conda/lib/python3.12/site-packages (from matplotlib->missingno) (2.9.0.post0)\n",
      "Requirement already satisfied: pandas>=1.2 in /opt/conda/lib/python3.12/site-packages (from seaborn->missingno) (2.2.3)\n",
      "Requirement already satisfied: pytz>=2020.1 in /opt/conda/lib/python3.12/site-packages (from pandas>=1.2->seaborn->missingno) (2024.1)\n",
      "Requirement already satisfied: tzdata>=2022.7 in /opt/conda/lib/python3.12/site-packages (from pandas>=1.2->seaborn->missingno) (2024.2)\n",
      "Requirement already satisfied: six>=1.5 in /opt/conda/lib/python3.12/site-packages (from python-dateutil>=2.7->matplotlib->missingno) (1.17.0)\n",
      "Downloading missingno-0.5.2-py3-none-any.whl (8.7 kB)\n",
      "Installing collected packages: missingno\n",
      "Successfully installed missingno-0.5.2\n"
     ]
    }
   ],
   "source": [
    "!pip install missingno"
   ]
  },
  {
   "cell_type": "code",
   "execution_count": 2,
   "metadata": {},
   "outputs": [],
   "source": [
    "#importation des librairies\n",
    "import pandas as pd\n",
    "import matplotlib.pyplot as plt\n",
    "import seaborn as sns\n",
    "import missingno as ms\n",
    "import numpy as np\n",
    "import fonctions_utilisees as f\n",
    "\n"
   ]
  },
  {
   "cell_type": "code",
   "execution_count": 4,
   "metadata": {},
   "outputs": [],
   "source": [
    "url=\"https://raw.githubusercontent.com/JosueAfouda/Marketing-Pandas/master/marketing.csv\"\n",
    "marketing_df= pd.read_csv(url)"
   ]
  },
  {
   "cell_type": "markdown",
   "metadata": {},
   "source": [
    "<br/>\n",
    "<h1 style=\"font-family: 'Georgia', serif;  font-size: 25px; color:rgb(219, 80, 52); text-shadow: 2px 2px 5px rgba(0, 0, 0, 0.3)\">\n",
    "<ul>\n",
    "<li style=\"list-style-type: square\">Taux de conversion\n",
    "</li>\n",
    "</ul>\n",
    "</h1>\n",
    "\n",
    "  "
   ]
  },
  {
   "cell_type": "markdown",
   "metadata": {},
   "source": [
    " <br/>\n",
    " <br/>\n",
    "<p style=\"font-family: 'Georgia', serif;  font-size: 20px;\">\n",
    "cette variable permet de determiner combien de ceux étant entrés en contact avec la campagne, ont achetés le produit ou se sont abonnés au service de l'entreprise. \n",
    "</p>\n"
   ]
  },
  {
   "cell_type": "code",
   "execution_count": 5,
   "metadata": {},
   "outputs": [
    {
     "name": "stdout",
     "output_type": "stream",
     "text": [
      "le nombre d'utilisateurs uniques est : 7309\n",
      "\n",
      "\n",
      "le nombre d'utilisateurs uniques ayant souscrit au forfait est : 1015\n",
      "\n",
      "\n",
      "le taux de conversion global est egal à : 13.89 %\n"
     ]
    }
   ],
   "source": [
    "#calcul du taux de convertion global\n",
    "taux_con = f.Taux_conversion(marketing_df)\n"
   ]
  },
  {
   "cell_type": "markdown",
   "metadata": {},
   "source": [
    "<br/>\n",
    "<h1 style=\"font-family: 'Georgia', serif;  font-size: 25px; color:rgb(219, 80, 52); text-shadow: 2px 2px 5px rgba(0, 0, 0, 0.3)\">\n",
    "<ul>\n",
    "<li style=\"list-style-type: square\">Taux de retention\n",
    "</li>\n",
    "</ul>\n",
    "</h1>\n",
    "\n",
    "  "
   ]
  },
  {
   "cell_type": "markdown",
   "metadata": {},
   "source": [
    "<p style=\"font-family: 'Georgia', serif;  font-size: 20px;\">\n",
    "cette variable represente le pourcentage de personnes qui restent abonnées après une certaine période de temps. en d'autres termes permet de verifier si on a converti des abonnés intéressés par le produit ou pas.\n",
    "</p>\n"
   ]
  },
  {
   "cell_type": "code",
   "execution_count": 6,
   "metadata": {},
   "outputs": [
    {
     "name": "stdout",
     "output_type": "stream",
     "text": [
      "le nombre de personnes restés abonnés est : 678\n",
      "\n",
      "\n",
      "le nombre d'utilisateurs uniques ayant souscrit au forfait est : 1015\n",
      "\n",
      "\n",
      "le taux de conversion global est egal à : 66.8 %\n"
     ]
    }
   ],
   "source": [
    "## calcul du taux de retention global\n",
    "taux_re = f.Taux_retention(marketing_df)"
   ]
  },
  {
   "cell_type": "markdown",
   "metadata": {},
   "source": [
    "<h1 style=\"font-family: 'Georgia', serif; font-size: 28px; color:rgb(52, 152, 219); text-shadow: 2px 2px 5px rgba(0, 0, 0, 0.3)\">Segmentation de clientele</h1>\n",
    "<br/>\n",
    "<br/>\n",
    "  "
   ]
  }
 ],
 "metadata": {
  "kernelspec": {
   "display_name": "base",
   "language": "python",
   "name": "python3"
  },
  "language_info": {
   "codemirror_mode": {
    "name": "ipython",
    "version": 3
   },
   "file_extension": ".py",
   "mimetype": "text/x-python",
   "name": "python",
   "nbconvert_exporter": "python",
   "pygments_lexer": "ipython3",
   "version": "3.12.7"
  }
 },
 "nbformat": 4,
 "nbformat_minor": 2
}
